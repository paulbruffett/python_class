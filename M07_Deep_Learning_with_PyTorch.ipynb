{
  "nbformat": 4,
  "nbformat_minor": 0,
  "metadata": {
    "colab": {
      "name": "M07 - Deep Learning with PyTorch.ipynb",
      "provenance": [],
      "toc_visible": true,
      "authorship_tag": "ABX9TyNcGbZ4WDOCS0No2VOUqCG8",
      "include_colab_link": true
    },
    "kernelspec": {
      "name": "python3",
      "display_name": "Python 3"
    }
  },
  "cells": [
    {
      "cell_type": "markdown",
      "metadata": {
        "id": "view-in-github",
        "colab_type": "text"
      },
      "source": [
        "<a href=\"https://colab.research.google.com/github/paulbruffett/python_class/blob/master/M07_Deep_Learning_with_PyTorch.ipynb\" target=\"_parent\"><img src=\"https://colab.research.google.com/assets/colab-badge.svg\" alt=\"Open In Colab\"/></a>"
      ]
    },
    {
      "cell_type": "markdown",
      "metadata": {
        "id": "bMBk_J2x0VOX",
        "colab_type": "text"
      },
      "source": [
        "# MNIST Digits Recognition\n",
        "MNIST is a canonical dataset for machine learning consisting of handwritten digits from 0 - 9 that are 28x28 pixel greyscale images."
      ]
    },
    {
      "cell_type": "code",
      "metadata": {
        "id": "sR8wgjND0Td0",
        "colab_type": "code",
        "colab": {}
      },
      "source": [
        "import torch\n",
        "import torch.nn as nn\n",
        "import torch.nn.functional as F\n",
        "import torch.optim as optim\n",
        "from torchvision import datasets, transforms\n",
        "from torch.utils.data import Dataset, DataLoader, TensorDataset\n",
        "from torch.optim.lr_scheduler import StepLR\n",
        "import numpy as np"
      ],
      "execution_count": 0,
      "outputs": []
    },
    {
      "cell_type": "markdown",
      "metadata": {
        "id": "kHmoP8HS2V16",
        "colab_type": "text"
      },
      "source": [
        "## Load and plot the data"
      ]
    },
    {
      "cell_type": "code",
      "metadata": {
        "id": "waMcbvfx1AwQ",
        "colab_type": "code",
        "colab": {}
      },
      "source": [
        "train_dataset = datasets.MNIST('../data', train=True, download=True)\n",
        "test_dataset = datasets.MNIST('../data', train=False, download=True)"
      ],
      "execution_count": 0,
      "outputs": []
    },
    {
      "cell_type": "code",
      "metadata": {
        "id": "pOlvXFiX1VZ4",
        "colab_type": "code",
        "outputId": "653367aa-003c-433c-ec6f-1a6a52073d6d",
        "colab": {
          "base_uri": "https://localhost:8080/",
          "height": 850
        }
      },
      "source": [
        "train_dataset.data"
      ],
      "execution_count": 0,
      "outputs": [
        {
          "output_type": "execute_result",
          "data": {
            "text/plain": [
              "tensor([[[0, 0, 0,  ..., 0, 0, 0],\n",
              "         [0, 0, 0,  ..., 0, 0, 0],\n",
              "         [0, 0, 0,  ..., 0, 0, 0],\n",
              "         ...,\n",
              "         [0, 0, 0,  ..., 0, 0, 0],\n",
              "         [0, 0, 0,  ..., 0, 0, 0],\n",
              "         [0, 0, 0,  ..., 0, 0, 0]],\n",
              "\n",
              "        [[0, 0, 0,  ..., 0, 0, 0],\n",
              "         [0, 0, 0,  ..., 0, 0, 0],\n",
              "         [0, 0, 0,  ..., 0, 0, 0],\n",
              "         ...,\n",
              "         [0, 0, 0,  ..., 0, 0, 0],\n",
              "         [0, 0, 0,  ..., 0, 0, 0],\n",
              "         [0, 0, 0,  ..., 0, 0, 0]],\n",
              "\n",
              "        [[0, 0, 0,  ..., 0, 0, 0],\n",
              "         [0, 0, 0,  ..., 0, 0, 0],\n",
              "         [0, 0, 0,  ..., 0, 0, 0],\n",
              "         ...,\n",
              "         [0, 0, 0,  ..., 0, 0, 0],\n",
              "         [0, 0, 0,  ..., 0, 0, 0],\n",
              "         [0, 0, 0,  ..., 0, 0, 0]],\n",
              "\n",
              "        ...,\n",
              "\n",
              "        [[0, 0, 0,  ..., 0, 0, 0],\n",
              "         [0, 0, 0,  ..., 0, 0, 0],\n",
              "         [0, 0, 0,  ..., 0, 0, 0],\n",
              "         ...,\n",
              "         [0, 0, 0,  ..., 0, 0, 0],\n",
              "         [0, 0, 0,  ..., 0, 0, 0],\n",
              "         [0, 0, 0,  ..., 0, 0, 0]],\n",
              "\n",
              "        [[0, 0, 0,  ..., 0, 0, 0],\n",
              "         [0, 0, 0,  ..., 0, 0, 0],\n",
              "         [0, 0, 0,  ..., 0, 0, 0],\n",
              "         ...,\n",
              "         [0, 0, 0,  ..., 0, 0, 0],\n",
              "         [0, 0, 0,  ..., 0, 0, 0],\n",
              "         [0, 0, 0,  ..., 0, 0, 0]],\n",
              "\n",
              "        [[0, 0, 0,  ..., 0, 0, 0],\n",
              "         [0, 0, 0,  ..., 0, 0, 0],\n",
              "         [0, 0, 0,  ..., 0, 0, 0],\n",
              "         ...,\n",
              "         [0, 0, 0,  ..., 0, 0, 0],\n",
              "         [0, 0, 0,  ..., 0, 0, 0],\n",
              "         [0, 0, 0,  ..., 0, 0, 0]]], dtype=torch.uint8)"
            ]
          },
          "metadata": {
            "tags": []
          },
          "execution_count": 3
        }
      ]
    },
    {
      "cell_type": "code",
      "metadata": {
        "id": "xxfZkVL-1iNY",
        "colab_type": "code",
        "outputId": "04704d47-d8fc-4402-8cca-5dc0f28b9a44",
        "colab": {
          "base_uri": "https://localhost:8080/",
          "height": 850
        }
      },
      "source": [
        "train_dataset.data"
      ],
      "execution_count": 0,
      "outputs": [
        {
          "output_type": "execute_result",
          "data": {
            "text/plain": [
              "tensor([[[0, 0, 0,  ..., 0, 0, 0],\n",
              "         [0, 0, 0,  ..., 0, 0, 0],\n",
              "         [0, 0, 0,  ..., 0, 0, 0],\n",
              "         ...,\n",
              "         [0, 0, 0,  ..., 0, 0, 0],\n",
              "         [0, 0, 0,  ..., 0, 0, 0],\n",
              "         [0, 0, 0,  ..., 0, 0, 0]],\n",
              "\n",
              "        [[0, 0, 0,  ..., 0, 0, 0],\n",
              "         [0, 0, 0,  ..., 0, 0, 0],\n",
              "         [0, 0, 0,  ..., 0, 0, 0],\n",
              "         ...,\n",
              "         [0, 0, 0,  ..., 0, 0, 0],\n",
              "         [0, 0, 0,  ..., 0, 0, 0],\n",
              "         [0, 0, 0,  ..., 0, 0, 0]],\n",
              "\n",
              "        [[0, 0, 0,  ..., 0, 0, 0],\n",
              "         [0, 0, 0,  ..., 0, 0, 0],\n",
              "         [0, 0, 0,  ..., 0, 0, 0],\n",
              "         ...,\n",
              "         [0, 0, 0,  ..., 0, 0, 0],\n",
              "         [0, 0, 0,  ..., 0, 0, 0],\n",
              "         [0, 0, 0,  ..., 0, 0, 0]],\n",
              "\n",
              "        ...,\n",
              "\n",
              "        [[0, 0, 0,  ..., 0, 0, 0],\n",
              "         [0, 0, 0,  ..., 0, 0, 0],\n",
              "         [0, 0, 0,  ..., 0, 0, 0],\n",
              "         ...,\n",
              "         [0, 0, 0,  ..., 0, 0, 0],\n",
              "         [0, 0, 0,  ..., 0, 0, 0],\n",
              "         [0, 0, 0,  ..., 0, 0, 0]],\n",
              "\n",
              "        [[0, 0, 0,  ..., 0, 0, 0],\n",
              "         [0, 0, 0,  ..., 0, 0, 0],\n",
              "         [0, 0, 0,  ..., 0, 0, 0],\n",
              "         ...,\n",
              "         [0, 0, 0,  ..., 0, 0, 0],\n",
              "         [0, 0, 0,  ..., 0, 0, 0],\n",
              "         [0, 0, 0,  ..., 0, 0, 0]],\n",
              "\n",
              "        [[0, 0, 0,  ..., 0, 0, 0],\n",
              "         [0, 0, 0,  ..., 0, 0, 0],\n",
              "         [0, 0, 0,  ..., 0, 0, 0],\n",
              "         ...,\n",
              "         [0, 0, 0,  ..., 0, 0, 0],\n",
              "         [0, 0, 0,  ..., 0, 0, 0],\n",
              "         [0, 0, 0,  ..., 0, 0, 0]]], dtype=torch.uint8)"
            ]
          },
          "metadata": {
            "tags": []
          },
          "execution_count": 4
        }
      ]
    },
    {
      "cell_type": "code",
      "metadata": {
        "id": "0YGvLvMr1ySt",
        "colab_type": "code",
        "outputId": "27d81a61-9539-4b47-c7d0-977c4e505195",
        "colab": {
          "base_uri": "https://localhost:8080/",
          "height": 34
        }
      },
      "source": [
        "train_dataset.data.shape"
      ],
      "execution_count": 0,
      "outputs": [
        {
          "output_type": "execute_result",
          "data": {
            "text/plain": [
              "torch.Size([60000, 28, 28])"
            ]
          },
          "metadata": {
            "tags": []
          },
          "execution_count": 5
        }
      ]
    },
    {
      "cell_type": "code",
      "metadata": {
        "id": "2xjiwWf31z7i",
        "colab_type": "code",
        "outputId": "f99a5e2c-b344-43e1-d1aa-cef16328e8d7",
        "colab": {
          "base_uri": "https://localhost:8080/",
          "height": 265
        }
      },
      "source": [
        "import matplotlib.pyplot as plt\n",
        "\n",
        "imgplot = plt.imshow(train_dataset.data[2])"
      ],
      "execution_count": 0,
      "outputs": [
        {
          "output_type": "display_data",
          "data": {
            "image/png": "[encoded data removed]",
            "text/plain": [
              "<Figure size 432x288 with 1 Axes>"
            ]
          },
          "metadata": {
            "tags": []
          }
        }
      ]
    },
    {
      "cell_type": "code",
      "metadata": {
        "id": "luQMuGLT2Cec",
        "colab_type": "code",
        "outputId": "0d2ee975-77b2-4fea-a05f-a2dfa02ee060",
        "colab": {
          "base_uri": "https://localhost:8080/",
          "height": 34
        }
      },
      "source": [
        "train_dataset.targets[2]"
      ],
      "execution_count": 0,
      "outputs": [
        {
          "output_type": "execute_result",
          "data": {
            "text/plain": [
              "tensor(4)"
            ]
          },
          "metadata": {
            "tags": []
          },
          "execution_count": 7
        }
      ]
    },
    {
      "cell_type": "code",
      "metadata": {
        "id": "ljetxmMO2Ly3",
        "colab_type": "code",
        "outputId": "72b23051-a114-42c8-f1aa-d4b183760185",
        "colab": {
          "base_uri": "https://localhost:8080/",
          "height": 34
        }
      },
      "source": [
        "train_dataset.data.max()"
      ],
      "execution_count": 0,
      "outputs": [
        {
          "output_type": "execute_result",
          "data": {
            "text/plain": [
              "tensor(255, dtype=torch.uint8)"
            ]
          },
          "metadata": {
            "tags": []
          },
          "execution_count": 8
        }
      ]
    },
    {
      "cell_type": "markdown",
      "metadata": {
        "id": "ivOtPKVR2b7i",
        "colab_type": "text"
      },
      "source": [
        "## Scale and prepare the dataset"
      ]
    },
    {
      "cell_type": "code",
      "metadata": {
        "id": "Vl4KWSGB2S6B",
        "colab_type": "code",
        "colab": {}
      },
      "source": [
        "X_train = train_dataset.data / 255.\n",
        "y_train = train_dataset.targets\n",
        "X_test = test_dataset.data / 255.\n",
        "y_test = test_dataset.targets"
      ],
      "execution_count": 0,
      "outputs": []
    },
    {
      "cell_type": "code",
      "metadata": {
        "id": "Yzwv5xV22kr_",
        "colab_type": "code",
        "outputId": "018b35a9-a717-4805-f505-3ca22bc9c122",
        "colab": {
          "base_uri": "https://localhost:8080/",
          "height": 34
        }
      },
      "source": [
        "X_train.max()"
      ],
      "execution_count": 0,
      "outputs": [
        {
          "output_type": "execute_result",
          "data": {
            "text/plain": [
              "tensor(1.)"
            ]
          },
          "metadata": {
            "tags": []
          },
          "execution_count": 10
        }
      ]
    },
    {
      "cell_type": "markdown",
      "metadata": {
        "id": "2Gwirm4nPMOW",
        "colab_type": "text"
      },
      "source": [
        "## Create the model\n",
        "We're building a simple, dense neural network\n",
        "The forward is how the network is traversed, the init defines the actual structure of the neural net."
      ]
    },
    {
      "cell_type": "code",
      "metadata": {
        "id": "Y35mBdkv3Pz3",
        "colab_type": "code",
        "colab": {}
      },
      "source": [
        "class DNN(nn.Module):\n",
        "    def __init__(self):\n",
        "        super(DNN, self).__init__()\n",
        "        self.fc1 = nn.Linear(784, 128)\n",
        "        self.fc2 = nn.Linear(128, 10)\n",
        "\n",
        "    def forward(self, x):\n",
        "        x = torch.flatten(x, 1)\n",
        "        x = self.fc1(x)\n",
        "        x = F.relu(x)\n",
        "        x = self.fc2(x)\n",
        "        output = F.log_softmax(x, dim=1)\n",
        "        return output"
      ],
      "execution_count": 0,
      "outputs": []
    },
    {
      "cell_type": "code",
      "metadata": {
        "id": "43Quo-K74ACo",
        "colab_type": "code",
        "colab": {}
      },
      "source": [
        "batch_size = 64\n",
        "train_loader = DataLoader(TensorDataset(X_train,y_train), batch_size=batch_size, shuffle=True)\n",
        "test_loader = DataLoader(TensorDataset(X_test,y_test), batch_size=batch_size,shuffle=True)"
      ],
      "execution_count": 0,
      "outputs": []
    },
    {
      "cell_type": "code",
      "metadata": {
        "id": "N6M9J48j6Qtp",
        "colab_type": "code",
        "colab": {}
      },
      "source": [
        "model = DNN()\n",
        "\n",
        "criterion = nn.NLLLoss()\n",
        "optimizer = optim.SGD(model.parameters(), lr=0.1)"
      ],
      "execution_count": 0,
      "outputs": []
    },
    {
      "cell_type": "markdown",
      "metadata": {
        "id": "5e-q2YzvPVUK",
        "colab_type": "text"
      },
      "source": [
        "## Training\n",
        "We'll do 5 epochs, so all of the data will be seen 5 times.  We're going to iterate through the data loaders and train on 64 images at a time."
      ]
    },
    {
      "cell_type": "code",
      "metadata": {
        "id": "CEnfNoS83ffp",
        "colab_type": "code",
        "outputId": "e30c532e-12d6-4e69-de3e-7a01721b2338",
        "colab": {
          "base_uri": "https://localhost:8080/",
          "height": 442
        }
      },
      "source": [
        "epochs = 5\n",
        "print_every = 200\n",
        "steps = 0\n",
        "for e in range(epochs):\n",
        "    running_loss = 0\n",
        "    for step, (x,y) in enumerate(train_loader):\n",
        "        # Flatten MNIST images into a 784 long vector\n",
        "#        x.resize_(x.size()[0], 784)\n",
        "        \n",
        "        optimizer.zero_grad()\n",
        "        \n",
        "        # Forward and backward passes\n",
        "        output = model.forward(x)\n",
        "        loss = criterion(output, y)\n",
        "        loss.backward()\n",
        "        optimizer.step()\n",
        "        \n",
        "        running_loss += loss.item()\n",
        "        \n",
        "        if step % print_every == 0:\n",
        "            print(\"Epoch: {}/{}... \".format(e+1, epochs),\n",
        "                  \"Loss: {:.4f}\".format(running_loss/print_every))\n",
        "            \n",
        "            running_loss = 0"
      ],
      "execution_count": 0,
      "outputs": [
        {
          "output_type": "stream",
          "text": [
            "Epoch: 1/5...  Loss: 0.0115\n",
            "Epoch: 1/5...  Loss: 0.8589\n",
            "Epoch: 1/5...  Loss: 0.3832\n",
            "Epoch: 1/5...  Loss: 0.3236\n",
            "Epoch: 1/5...  Loss: 0.2963\n",
            "Epoch: 2/5...  Loss: 0.0012\n",
            "Epoch: 2/5...  Loss: 0.2559\n",
            "Epoch: 2/5...  Loss: 0.2327\n",
            "Epoch: 2/5...  Loss: 0.2121\n",
            "Epoch: 2/5...  Loss: 0.2070\n",
            "Epoch: 3/5...  Loss: 0.0009\n",
            "Epoch: 3/5...  Loss: 0.1809\n",
            "Epoch: 3/5...  Loss: 0.1726\n",
            "Epoch: 3/5...  Loss: 0.1719\n",
            "Epoch: 3/5...  Loss: 0.1547\n",
            "Epoch: 4/5...  Loss: 0.0006\n",
            "Epoch: 4/5...  Loss: 0.1416\n",
            "Epoch: 4/5...  Loss: 0.1473\n",
            "Epoch: 4/5...  Loss: 0.1260\n",
            "Epoch: 4/5...  Loss: 0.1308\n",
            "Epoch: 5/5...  Loss: 0.0009\n",
            "Epoch: 5/5...  Loss: 0.1230\n",
            "Epoch: 5/5...  Loss: 0.1180\n",
            "Epoch: 5/5...  Loss: 0.1107\n",
            "Epoch: 5/5...  Loss: 0.1104\n"
          ],
          "name": "stdout"
        }
      ]
    },
    {
      "cell_type": "markdown",
      "metadata": {
        "id": "uNSt6JMSL5zX",
        "colab_type": "text"
      },
      "source": [
        "torch.nn defines nn.Module classes, torch nn.functional uses a functional (stateless) approach.\n",
        "To dig a bit deeper: nn.Modules are defined as Python classes and have attributes, e.g. a nn.Conv2d module will have some internal attributes like self.weight. F.conv2d however just defines the operation and needs all arguments to be passed (including the weights and bias). Internally the modules will usually call their functional counterpart in the forward method somewhere."
      ]
    },
    {
      "cell_type": "code",
      "metadata": {
        "id": "18eKoiu72tdT",
        "colab_type": "code",
        "outputId": "6f92c29d-6888-4947-cb1b-679271b2ca4a",
        "colab": {
          "base_uri": "https://localhost:8080/",
          "height": 68
        }
      },
      "source": [
        "\n",
        "test_loss = 0\n",
        "correct = 0\n",
        "with torch.no_grad():\n",
        "    for data, target in test_loader:\n",
        "        output = model(data)\n",
        "        test_loss += F.nll_loss(output, target, reduction='sum').item()  # sum up batch loss\n",
        "        pred = output.argmax(dim=1, keepdim=True)  # get the index of the max log-probability\n",
        "        correct += pred.eq(target.view_as(pred)).sum().item()\n",
        "\n",
        "test_loss /= len(test_loader.dataset)\n",
        "\n",
        "print('\\nTest set: Average loss: {:.4f}, Accuracy: {}/{} ({:.0f}%)\\n'.format(\n",
        "    test_loss, correct, len(test_loader.dataset),\n",
        "    100. * correct / len(test_loader.dataset)))"
      ],
      "execution_count": 0,
      "outputs": [
        {
          "output_type": "stream",
          "text": [
            "\n",
            "Test set: Average loss: 0.1156, Accuracy: 9662/10000 (97%)\n",
            "\n"
          ],
          "name": "stdout"
        }
      ]
    },
    {
      "cell_type": "markdown",
      "metadata": {
        "id": "tHe8OOn9OEcH",
        "colab_type": "text"
      },
      "source": [
        "## Accuracy metrics\n",
        "Let's break down our accuracy function here into steps, because some of it probably is confusing.  "
      ]
    },
    {
      "cell_type": "markdown",
      "metadata": {
        "id": "esbU358tMrN-",
        "colab_type": "text"
      },
      "source": [
        "###First, let's make a prediction\n",
        "\n",
        "We have to reshape the tensor to look like a batch.  The model was trained on data of batch_size x img_height x img_width; 64x28x28 data.  Now we're feeding it one sample that's 28x28, it's saying \"I'm missing a dimension here\", so we need to feed it a 'batch' of 1x28x28 to get a prediction.\n",
        "\n",
        "Reshape of -1 says \"make this as long or short as needed, based on the other dimensions\", so here we're saying \"reshape the matrix to 28x28 and as many batches as needed."
      ]
    },
    {
      "cell_type": "code",
      "metadata": {
        "id": "eB7DC_vmJ1eZ",
        "colab_type": "code",
        "outputId": "700e2e34-cbca-4c41-fa5c-ecbd7951d650",
        "colab": {
          "base_uri": "https://localhost:8080/",
          "height": 51
        }
      },
      "source": [
        "with torch.no_grad():\n",
        "  print(model(X_test[0].reshape(-1,28,28)))"
      ],
      "execution_count": 0,
      "outputs": [
        {
          "output_type": "stream",
          "text": [
            "tensor([[-1.2341e+01, -1.6217e+01, -8.3700e+00, -5.9455e+00, -1.7039e+01,\n",
            "         -1.1560e+01, -2.1767e+01, -2.8979e-03, -1.1646e+01, -1.0740e+01]])\n"
          ],
          "name": "stdout"
        }
      ]
    },
    {
      "cell_type": "code",
      "metadata": {
        "id": "f-x-b0_cJ_y5",
        "colab_type": "code",
        "outputId": "b45d14e1-77eb-4406-b42d-4cdbb80fd0b9",
        "colab": {
          "base_uri": "https://localhost:8080/",
          "height": 68
        }
      },
      "source": [
        "with torch.no_grad():\n",
        "  print(torch.max(model(X_test[10].reshape(-1,28,28)),1))"
      ],
      "execution_count": 0,
      "outputs": [
        {
          "output_type": "stream",
          "text": [
            "torch.return_types.max(\n",
            "values=tensor([-0.0009]),\n",
            "indices=tensor([0]))\n"
          ],
          "name": "stdout"
        }
      ]
    },
    {
      "cell_type": "code",
      "metadata": {
        "id": "SRVRMgE3KaK5",
        "colab_type": "code",
        "outputId": "701eed35-77fe-4e1b-c1f8-ac350bd4a42c",
        "colab": {
          "base_uri": "https://localhost:8080/",
          "height": 34
        }
      },
      "source": [
        "#checks out\n",
        "y_test[10]"
      ],
      "execution_count": 0,
      "outputs": [
        {
          "output_type": "execute_result",
          "data": {
            "text/plain": [
              "tensor(0)"
            ]
          },
          "metadata": {
            "tags": []
          },
          "execution_count": 18
        }
      ]
    },
    {
      "cell_type": "code",
      "metadata": {
        "id": "kfS8Qx4kK0GL",
        "colab_type": "code",
        "outputId": "0e04a978-ce5a-4373-e71a-7f7c44e5dc8c",
        "colab": {
          "base_uri": "https://localhost:8080/",
          "height": 34
        }
      },
      "source": [
        "#now let's look at the loss function, this is getting the cumulative model error\n",
        "F.nll_loss(output, target, reduction='sum').item()  # sum up batch loss"
      ],
      "execution_count": 0,
      "outputs": [
        {
          "output_type": "execute_result",
          "data": {
            "text/plain": [
              "6.4311699867248535"
            ]
          },
          "metadata": {
            "tags": []
          },
          "execution_count": 19
        }
      ]
    },
    {
      "cell_type": "code",
      "metadata": {
        "id": "rgUjUTxhOdDA",
        "colab_type": "code",
        "outputId": "bbe09f8c-8fa7-48cc-b025-ead2e1e99aba",
        "colab": {
          "base_uri": "https://localhost:8080/",
          "height": 289
        }
      },
      "source": [
        "#this is the prediction, similar to what I did with torch.max\n",
        "output.argmax(dim=1, keepdim=True)"
      ],
      "execution_count": 0,
      "outputs": [
        {
          "output_type": "execute_result",
          "data": {
            "text/plain": [
              "tensor([[2],\n",
              "        [4],\n",
              "        [0],\n",
              "        [7],\n",
              "        [8],\n",
              "        [4],\n",
              "        [1],\n",
              "        [9],\n",
              "        [5],\n",
              "        [1],\n",
              "        [4],\n",
              "        [1],\n",
              "        [0],\n",
              "        [6],\n",
              "        [9],\n",
              "        [3]])"
            ]
          },
          "metadata": {
            "tags": []
          },
          "execution_count": 20
        }
      ]
    },
    {
      "cell_type": "code",
      "metadata": {
        "id": "F-ipHe3BOmem",
        "colab_type": "code",
        "outputId": "ee6e3534-5ce7-479b-a716-ba471c6b5bed",
        "colab": {
          "base_uri": "https://localhost:8080/",
          "height": 34
        }
      },
      "source": [
        "#this is comparing the predictions to the actuals to get the accuracy score\n",
        "pred.eq(target.view_as(pred)).sum().item()"
      ],
      "execution_count": 0,
      "outputs": [
        {
          "output_type": "execute_result",
          "data": {
            "text/plain": [
              "14"
            ]
          },
          "metadata": {
            "tags": []
          },
          "execution_count": 21
        }
      ]
    },
    {
      "cell_type": "markdown",
      "metadata": {
        "id": "5P49wYDsPdIa",
        "colab_type": "text"
      },
      "source": [
        "# Fashion MNIST\n",
        "A more challenging example, since a trivial neural net got 97% at MNIST."
      ]
    },
    {
      "cell_type": "code",
      "metadata": {
        "id": "1p9g967mOryu",
        "colab_type": "code",
        "colab": {}
      },
      "source": [
        "trainset = datasets.FashionMNIST('F_MNIST_data/', download=True, train=True, transform=transforms.ToTensor())\n",
        "trainset.data = trainset.data/255.\n",
        "trainloader = torch.utils.data.DataLoader(trainset, batch_size=64, shuffle=True)\n",
        "\n",
        "# Download and load the test data\n",
        "testset = datasets.FashionMNIST('F_MNIST_data/', download=True, train=False, transform=transforms.ToTensor())\n",
        "testset.data = testset.data/255.\n",
        "testloader = torch.utils.data.DataLoader(testset, batch_size=64, shuffle=True)"
      ],
      "execution_count": 0,
      "outputs": []
    },
    {
      "cell_type": "code",
      "metadata": {
        "id": "2LPf5R1kTjsZ",
        "colab_type": "code",
        "outputId": "cdb42468-320f-4c02-de61-89beec295af0",
        "colab": {
          "base_uri": "https://localhost:8080/",
          "height": 34
        }
      },
      "source": [
        "trainset.data.max()"
      ],
      "execution_count": 0,
      "outputs": [
        {
          "output_type": "execute_result",
          "data": {
            "text/plain": [
              "tensor(1.)"
            ]
          },
          "metadata": {
            "tags": []
          },
          "execution_count": 37
        }
      ]
    },
    {
      "cell_type": "code",
      "metadata": {
        "id": "xVL3Cl4COwV9",
        "colab_type": "code",
        "outputId": "c4c9a3eb-567a-45cb-8460-543f3167380b",
        "colab": {
          "base_uri": "https://localhost:8080/",
          "height": 265
        }
      },
      "source": [
        "import matplotlib.pyplot as plt\n",
        "\n",
        "imgplot = plt.imshow(trainset.data[55])"
      ],
      "execution_count": 0,
      "outputs": [
        {
          "output_type": "display_data",
          "data": {
            "image/png": "[encoded data removed]",
            "text/plain": [
              "<Figure size 432x288 with 1 Axes>"
            ]
          },
          "metadata": {
            "tags": []
          }
        }
      ]
    },
    {
      "cell_type": "code",
      "metadata": {
        "id": "fF66tuAqPyLM",
        "colab_type": "code",
        "outputId": "c3b1ca85-6acb-422a-8d1d-0832c27b692f",
        "colab": {
          "base_uri": "https://localhost:8080/",
          "height": 34
        }
      },
      "source": [
        "trainset.targets.max()"
      ],
      "execution_count": 0,
      "outputs": [
        {
          "output_type": "execute_result",
          "data": {
            "text/plain": [
              "tensor(9)"
            ]
          },
          "metadata": {
            "tags": []
          },
          "execution_count": 39
        }
      ]
    },
    {
      "cell_type": "code",
      "metadata": {
        "id": "HQZj2dewRZLc",
        "colab_type": "code",
        "colab": {}
      },
      "source": [
        "class conv_net(nn.Module):\n",
        "    def __init__(self):\n",
        "        super().__init__()\n",
        "\n",
        "        self.conv = nn.Sequential(\n",
        "            nn.Conv2d(1, 32, kernel_size=3, stride=1),\n",
        "            nn.ReLU(),\n",
        "            nn.Conv2d(32, 64, kernel_size=3, stride=1),\n",
        "            nn.ReLU()\n",
        "        )\n",
        "\n",
        "        conv_out_size = self._get_conv_out([1,28,28])\n",
        "        self.fc = nn.Sequential(\n",
        "            nn.Linear(conv_out_size, 512),\n",
        "            nn.ReLU(),\n",
        "            nn.Linear(512, 10),\n",
        "            nn.LogSoftmax(dim=1)\n",
        "        )\n",
        "\n",
        "    def _get_conv_out(self, shape):\n",
        "        o = self.conv(torch.zeros(1, *shape))\n",
        "        return int(np.prod(o.size()))\n",
        "\n",
        "    def forward(self, x):\n",
        "        conv_out = self.conv(x).view(x.size()[0], -1)\n",
        "        return self.fc(conv_out)"
      ],
      "execution_count": 0,
      "outputs": []
    },
    {
      "cell_type": "code",
      "metadata": {
        "id": "_YyHizGtZA_T",
        "colab_type": "code",
        "colab": {}
      },
      "source": [
        "model = conv_net()\n",
        "#model = DNN()\n",
        "criterion = nn.NLLLoss()\n",
        "optimizer = optim.SGD(model.parameters(), lr=0.1)\n"
      ],
      "execution_count": 0,
      "outputs": []
    },
    {
      "cell_type": "code",
      "metadata": {
        "id": "UTYJVLA8QCUW",
        "colab_type": "code",
        "outputId": "283a0bad-6e88-4c89-de6f-8199e87ee2cc",
        "colab": {
          "base_uri": "https://localhost:8080/",
          "height": 357
        }
      },
      "source": [
        "epochs = 5\n",
        "print_every = 200\n",
        "for e in range(epochs):\n",
        "    running_loss = 0\n",
        "    for step, (x,y) in enumerate(trainloader):\n",
        "        # Flatten MNIST images into a 784 long vector\n",
        "#        x.resize_(x.size()[0], 784)\n",
        "        \n",
        "        optimizer.zero_grad()\n",
        "        \n",
        "        # Forward and backward passes\n",
        "        output = model.forward(x)\n",
        "        loss = criterion(output, y)\n",
        "        loss.backward()\n",
        "        optimizer.step()\n",
        "        \n",
        "        running_loss += loss.item()\n",
        "        \n",
        "        if step > 1:\n",
        "          if step % print_every == 0:\n",
        "              print(\"Epoch: {}/{}... \".format(e+1, epochs),\n",
        "                    \"Loss: {:.4f}\".format(running_loss/print_every))\n",
        "              \n",
        "              running_loss = 0"
      ],
      "execution_count": 0,
      "outputs": [
        {
          "output_type": "stream",
          "text": [
            "Epoch: 1/5...  Loss: 1.2823\n",
            "Epoch: 1/5...  Loss: 0.9596\n",
            "Epoch: 1/5...  Loss: 0.8923\n",
            "Epoch: 1/5...  Loss: 0.8569\n",
            "Epoch: 2/5...  Loss: 0.8237\n",
            "Epoch: 2/5...  Loss: 0.7978\n",
            "Epoch: 2/5...  Loss: 0.7979\n",
            "Epoch: 2/5...  Loss: 0.7779\n",
            "Epoch: 3/5...  Loss: 0.7561\n",
            "Epoch: 3/5...  Loss: 0.7465\n",
            "Epoch: 3/5...  Loss: 0.7443\n",
            "Epoch: 3/5...  Loss: 0.7490\n",
            "Epoch: 4/5...  Loss: 0.7130\n",
            "Epoch: 4/5...  Loss: 0.7119\n",
            "Epoch: 4/5...  Loss: 0.7061\n",
            "Epoch: 4/5...  Loss: 0.7046\n",
            "Epoch: 5/5...  Loss: 0.6775\n",
            "Epoch: 5/5...  Loss: 0.6654\n",
            "Epoch: 5/5...  Loss: 0.6744\n",
            "Epoch: 5/5...  Loss: 0.6807\n"
          ],
          "name": "stdout"
        }
      ]
    },
    {
      "cell_type": "code",
      "metadata": {
        "id": "xIfKT8SVQHdF",
        "colab_type": "code",
        "outputId": "c2cc2070-a00b-4ea2-8cf9-5d80659e2528",
        "colab": {
          "base_uri": "https://localhost:8080/",
          "height": 68
        }
      },
      "source": [
        "test_loss = 0\n",
        "correct = 0\n",
        "with torch.no_grad():\n",
        "    for data, target in testloader:\n",
        "        output = model(data)\n",
        "        test_loss += F.nll_loss(output, target, reduction='sum').item()  # sum up batch loss\n",
        "        pred = output.argmax(dim=1, keepdim=True)  # get the index of the max log-probability\n",
        "        correct += pred.eq(target.view_as(pred)).sum().item()\n",
        "\n",
        "test_loss /= len(testloader.dataset)\n",
        "\n",
        "print('\\nTest set: Average loss: {:.4f}, Accuracy: {}/{} ({:.0f}%)\\n'.format(\n",
        "    test_loss, correct, len(testloader.dataset),\n",
        "    100. * correct / len(testloader.dataset)))"
      ],
      "execution_count": 0,
      "outputs": [
        {
          "output_type": "stream",
          "text": [
            "\n",
            "Test set: Average loss: 0.7860, Accuracy: 6955/10000 (70%)\n",
            "\n"
          ],
          "name": "stdout"
        }
      ]
    },
    {
      "cell_type": "code",
      "metadata": {
        "id": "yZYshmVkRTRu",
        "colab_type": "code",
        "colab": {}
      },
      "source": [
        ""
      ],
      "execution_count": 0,
      "outputs": []
    }
  ]
}