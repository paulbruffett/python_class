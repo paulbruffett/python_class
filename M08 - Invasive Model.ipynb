{
 "cells": [
  {
   "cell_type": "code",
   "execution_count": 1,
   "metadata": {
    "colab": {},
    "colab_type": "code",
    "id": "IwRbkdcd-hMk"
   },
   "outputs": [],
   "source": [
    "import torch\n",
    "import torch.nn as nn\n",
    "import torch.optim as optim\n",
    "from torch.optim import lr_scheduler\n",
    "import numpy as np\n",
    "import torchvision\n",
    "from torchvision import datasets, models, transforms\n",
    "import os\n",
    "import torch.nn.functional as F"
   ]
  },
  {
   "cell_type": "code",
   "execution_count": 2,
   "metadata": {
    "colab": {},
    "colab_type": "code",
    "id": "GLDKzYQf-hMr"
   },
   "outputs": [],
   "source": [
    "import torchvision.models as models"
   ]
  },
  {
   "cell_type": "code",
   "execution_count": 3,
   "metadata": {
    "colab": {},
    "colab_type": "code",
    "id": "RBMcOagW-hMw"
   },
   "outputs": [],
   "source": [
    "transforms = transforms.transforms.Compose([transforms.Resize([224,224]),transforms.ToTensor()])"
   ]
  },
  {
   "cell_type": "code",
   "execution_count": 4,
   "metadata": {
    "colab": {
     "base_uri": "https://localhost:8080/",
     "height": 375
    },
    "colab_type": "code",
    "id": "i4ElOBc4-hM0",
    "outputId": "7687e34e-ebce-48b3-926e-f88e30af7662"
   },
   "outputs": [],
   "source": [
    "#data_dir='/Users/paulbruffett/code/ML/invasive/train'\n",
    "data_dir='D:/ML/invasive/train'\n",
    "\n",
    "image_datasets = datasets.ImageFolder(data_dir,transform=transforms)\n",
    "train_set, val_set = torch.utils.data.random_split(image_datasets, [int(len(image_datasets)*0.8), int(len(image_datasets)*0.2)])\n",
    "train_loader = torch.utils.data.DataLoader(train_set, batch_size=64, shuffle=True)\n",
    "valid_loader = torch.utils.data.DataLoader(val_set, batch_size=64, shuffle=False)"
   ]
  },
  {
   "cell_type": "code",
   "execution_count": 5,
   "metadata": {
    "colab": {
     "base_uri": "https://localhost:8080/",
     "height": 164
    },
    "colab_type": "code",
    "id": "RtvflSIU-hM3",
    "outputId": "6c402268-38b9-43e5-bf41-ed1b6466b001"
   },
   "outputs": [
    {
     "data": {
      "text/plain": [
       "['invasive', 'not-invasive']"
      ]
     },
     "execution_count": 5,
     "metadata": {},
     "output_type": "execute_result"
    }
   ],
   "source": [
    "image_datasets.classes"
   ]
  },
  {
   "cell_type": "code",
   "execution_count": 6,
   "metadata": {
    "colab": {
     "base_uri": "https://localhost:8080/",
     "height": 34
    },
    "colab_type": "code",
    "id": "tcMnA9Lg-hM7",
    "outputId": "25886683-3873-4bf3-91bb-cc9f409bbb83"
   },
   "outputs": [
    {
     "data": {
      "text/plain": [
       "'import pandas as pd\\nimport shutil\\nlabels = pd.read_csv(\"D:/ML/invasive/train_labels.csv\")'"
      ]
     },
     "execution_count": 6,
     "metadata": {},
     "output_type": "execute_result"
    }
   ],
   "source": [
    "\"\"\"import pandas as pd\n",
    "import shutil\n",
    "labels = pd.read_csv(\"D:/ML/invasive/train_labels.csv\")\"\"\""
   ]
  },
  {
   "cell_type": "code",
   "execution_count": 7,
   "metadata": {
    "colab": {
     "base_uri": "https://localhost:8080/",
     "height": 54
    },
    "colab_type": "code",
    "id": "EQNaQn-R-hM_",
    "outputId": "2e7fc1b4-bb3d-46a9-9c0f-22047e6eef85"
   },
   "outputs": [
    {
     "data": {
      "text/plain": [
       "'for i in labels.iterrows():\\n    file_name = str(i[1][\\'name\\'])+\\'.jpg\\'\\n    if i[1][\\'invasive\\'] == 1:\\n        shutil.move(data_dir+\"/train/\"+file_name,data_dir+\"/train/\"+\"invasive/\"+file_name)\\n    else:\\n        shutil.move(data_dir+\"/train/\"+file_name,data_dir+\"/train/\"+\"not-invasive/\"+file_name)\\n    print(i[1][\\'name\\'],i[1][\\'invasive\\'])'"
      ]
     },
     "execution_count": 7,
     "metadata": {},
     "output_type": "execute_result"
    }
   ],
   "source": [
    "\"\"\"for i in labels.iterrows():\n",
    "    file_name = str(i[1]['name'])+'.jpg'\n",
    "    if i[1]['invasive'] == 1:\n",
    "        shutil.move(data_dir+\"/train/\"+file_name,data_dir+\"/train/\"+\"invasive/\"+file_name)\n",
    "    else:\n",
    "        shutil.move(data_dir+\"/train/\"+file_name,data_dir+\"/train/\"+\"not-invasive/\"+file_name)\n",
    "    print(i[1]['name'],i[1]['invasive'])\"\"\""
   ]
  },
  {
   "cell_type": "code",
   "execution_count": 8,
   "metadata": {
    "colab": {},
    "colab_type": "code",
    "id": "WN-BHZo4-hNC"
   },
   "outputs": [],
   "source": [
    "def create_body(architecture):\n",
    "    if architecture == 'resnet34':\n",
    "      model = models.resnet34(pretrained=True)\n",
    "    elif architecture == 'resnet18':\n",
    "      model = models.resnet18(pretrained=True)\n",
    "    \"Cut off the body of a typically pretrained `model` at `cut` (int) or cut the model as specified by `cut(model)` (function).\"\n",
    "    return nn.Sequential(*list(model.children())[:-1])\n"
   ]
  },
  {
   "cell_type": "code",
   "execution_count": 9,
   "metadata": {
    "colab": {},
    "colab_type": "code",
    "id": "ZWObb1rh-hNF"
   },
   "outputs": [],
   "source": [
    "class conv_net(nn.Module):\n",
    "    def __init__(self,fc_neurons,architecture):\n",
    "        super().__init__()\n",
    "\n",
    "        self.body = create_body(architecture)\n",
    "\n",
    "        conv_out_size = self._get_conv_out([3,224,224])\n",
    "        self.fc = nn.Sequential(\n",
    "            nn.Linear(conv_out_size, fc_neurons),\n",
    "            nn.ReLU(),\n",
    "            nn.Linear(fc_neurons, 2),\n",
    "            nn.LogSoftmax()\n",
    "        )\n",
    "\n",
    "    def _get_conv_out(self, shape):\n",
    "        o = self.body(torch.zeros(1, *shape))\n",
    "        return int(np.prod(o.size()))\n",
    "\n",
    "    def forward(self, x):\n",
    "        conv_out = self.body(x).view(x.size()[0], -1)\n",
    "        return self.fc(conv_out)\n",
    "\n",
    "\n",
    "    def fit(self, epochs, train_loader, lr):\n",
    "        criterion = nn.NLLLoss()\n",
    "        optimizer = optim.SGD(model.parameters(), lr=0.01, momentum=0.9)\n",
    "        epochs = epochs\n",
    "        print_every = 50\n",
    "        for e in range(epochs):\n",
    "            running_loss = 0\n",
    "            for step, (x,y) in enumerate(train_loader):\n",
    "                y = y.to(device)\n",
    "                x = x.to(device)\n",
    "                \n",
    "                optimizer.zero_grad()\n",
    "                \n",
    "                # Forward and backward passes\n",
    "                output = self.forward(x)\n",
    "                loss = criterion(output, y)\n",
    "                loss.backward()\n",
    "                optimizer.step()\n",
    "                \n",
    "                running_loss += loss.item()\n",
    "                \n",
    "\n",
    "            print(\"Epoch: {}/{}... \".format(e+1, epochs),\n",
    "                \"Loss: {:.4f}\".format(running_loss/print_every))\n",
    "            \n",
    "    def score(self, valid_loader):\n",
    "        test_loss = 0\n",
    "        correct = 0\n",
    "        preds_c = []\n",
    "        with torch.no_grad():\n",
    "          for data, target in valid_loader:\n",
    "              data = data.to(device)\n",
    "              target = target.to(device)\n",
    "              output = self(data)\n",
    "              test_loss += F.nll_loss(output, target, reduction='sum').item()  # sum up batch loss\n",
    "              pred = output.argmax(dim=1, keepdim=True)  # get the index of the max log-probability\n",
    "              preds_c.append(pred)\n",
    "              correct += pred.eq(target.view_as(pred)).sum().item()\n",
    "\n",
    "        test_loss /= len(valid_loader.dataset)\n",
    "\n",
    "        test_acc = 100. * correct / len(valid_loader.dataset)\n",
    "        print('\\nTest set: Average loss: {:.4f}, Accuracy: {}/{} ({:.0f}%)\\n'.format(\n",
    "          test_loss, correct, len(valid_loader.dataset),test_acc))\n"
   ]
  },
  {
   "cell_type": "code",
   "execution_count": 10,
   "metadata": {
    "colab": {},
    "colab_type": "code",
    "id": "Zc3tVFx0-hNJ",
    "scrolled": true
   },
   "outputs": [],
   "source": [
    "#list(model.children())"
   ]
  },
  {
   "cell_type": "code",
   "execution_count": 11,
   "metadata": {
    "colab": {},
    "colab_type": "code",
    "id": "zkmQPoaf-hNV"
   },
   "outputs": [
    {
     "name": "stderr",
     "output_type": "stream",
     "text": [
      "C:\\Users\\Paul\\.conda\\envs\\universe\\lib\\site-packages\\torch\\nn\\modules\\container.py:100: UserWarning: Implicit dimension choice for log_softmax has been deprecated. Change the call to include dim=X as an argument.\n",
      "  input = module(input)\n"
     ]
    },
    {
     "name": "stdout",
     "output_type": "stream",
     "text": [
      "Epoch: 1/10...  Loss: 0.1720\n",
      "Epoch: 2/10...  Loss: 0.0397\n",
      "Epoch: 3/10...  Loss: 0.0224\n",
      "Epoch: 4/10...  Loss: 0.0054\n",
      "Epoch: 5/10...  Loss: 0.0025\n",
      "Epoch: 6/10...  Loss: 0.0083\n",
      "Epoch: 7/10...  Loss: 0.0017\n",
      "Epoch: 8/10...  Loss: 0.0006\n",
      "Epoch: 9/10...  Loss: 0.0001\n",
      "Epoch: 10/10...  Loss: 0.0001\n",
      "\n",
      "Test set: Average loss: 0.0701, Accuracy: 452/459 (98%)\n",
      "\n"
     ]
    }
   ],
   "source": [
    "if __name__ == '__main__':\n",
    "    import argparse\n",
    "    parser = argparse.ArgumentParser(description='Process some integers.')\n",
    "    parser.add_argument('--architecture', type=str)\n",
    "    parser.add_argument('--lr', type=float)\n",
    "    parser.add_argument('--n_neurons', type=int)\n",
    "    parser.add_argument('--epochs',type=int)\n",
    "    args = parser.parse_args(args=[])\n",
    "\n",
    "    if args.n_neurons == None: args.n_neurons = 512\n",
    "    if args.epochs == None: args.epochs = 10\n",
    "    if args.architecture == None: args.architecture = 'resnet34'\n",
    "    if args.lr == None: args.lr = 0.01\n",
    "\n",
    "    model = conv_net(args.n_neurons,args.architecture)\n",
    "\n",
    "    #todo param for freezing base layers\n",
    "    n_layers = len(list(model.parameters()))-6\n",
    "    for layer in model.parameters():\n",
    "        layer.requires_grad=False\n",
    "        n_layers -=1\n",
    "        if n_layers==0:\n",
    "            break\n",
    "\n",
    "    criterion = nn.NLLLoss()\n",
    "    optimizer = optim.SGD(model.parameters(), lr=args.lr, momentum=0.9)\n",
    "\n",
    "    if torch.cuda.is_available():\n",
    "        device = torch.device(\"cuda\")\n",
    "    else:\n",
    "        device = torch.device(\"cpu\")\n",
    "    \n",
    "    model = conv_net(args.n_neurons,args.architecture)\n",
    "    \n",
    "    model.to(device)\n",
    "    \n",
    "    model.fit(args.epochs, train_loader, args.lr)\n",
    "    \n",
    "    model.score(valid_loader)"
   ]
  },
  {
   "cell_type": "code",
   "execution_count": null,
   "metadata": {},
   "outputs": [],
   "source": []
  }
 ],
 "metadata": {
  "colab": {
   "name": "M08 - Invasive Model.ipynb",
   "provenance": []
  },
  "kernelspec": {
   "display_name": "Python 3",
   "language": "python",
   "name": "python3"
  },
  "language_info": {
   "codemirror_mode": {
    "name": "ipython",
    "version": 3
   },
   "file_extension": ".py",
   "mimetype": "text/x-python",
   "name": "python",
   "nbconvert_exporter": "python",
   "pygments_lexer": "ipython3",
   "version": "3.7.6"
  }
 },
 "nbformat": 4,
 "nbformat_minor": 1
}
